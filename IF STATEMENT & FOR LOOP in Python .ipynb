{
 "cells": [
  {
   "cell_type": "markdown",
   "id": "28d1620b",
   "metadata": {},
   "source": [
    "# If Statement and For Loop in Python "
   ]
  },
  {
   "cell_type": "markdown",
   "id": "d596e16c",
   "metadata": {},
   "source": [
    "### If Statement"
   ]
  },
  {
   "cell_type": "code",
   "execution_count": null,
   "id": "36c32859",
   "metadata": {},
   "outputs": [],
   "source": [
    "if <condition>:\n",
    "    <code>\n",
    "elif <condition>:\n",
    "    <code>\n",
    "....\n",
    "else:\n",
    "    <code>"
   ]
  },
  {
   "cell_type": "code",
   "execution_count": 17,
   "id": "7f4d0c82",
   "metadata": {},
   "outputs": [
    {
     "name": "stdout",
     "output_type": "stream",
     "text": [
      "The bearer is an adult\n"
     ]
    }
   ],
   "source": [
    "age = 25\n",
    "if age >= 18:\n",
    "    print('The bearer is an adult')\n",
    "elif age>= 13:\n",
    "    print(\"You are a teenage\")\n",
    "else:\n",
    "    print(\"The bearer is a kid\")"
   ]
  },
  {
   "cell_type": "markdown",
   "id": "8dfe6aec",
   "metadata": {},
   "source": [
    "### For Loop"
   ]
  },
  {
   "cell_type": "code",
   "execution_count": null,
   "id": "d91ff451",
   "metadata": {},
   "outputs": [],
   "source": [
    "for <variable> in <list>:\n",
    "    <code>"
   ]
  },
  {
   "cell_type": "code",
   "execution_count": 11,
   "id": "85b7bb73",
   "metadata": {},
   "outputs": [],
   "source": [
    "countries = ['United State', 'India','China','Brazil']\n",
    "       "
   ]
  },
  {
   "cell_type": "code",
   "execution_count": 15,
   "id": "e30f291d",
   "metadata": {},
   "outputs": [
    {
     "name": "stdout",
     "output_type": "stream",
     "text": [
      "United State\n",
      "India\n",
      "China\n",
      "Brazil\n"
     ]
    }
   ],
   "source": [
    "for country in countries:\n",
    "    print(country)"
   ]
  },
  {
   "cell_type": "markdown",
   "id": "0d138fc8",
   "metadata": {},
   "source": [
    "# Enumerate"
   ]
  },
  {
   "cell_type": "code",
   "execution_count": 16,
   "id": "912b7bb4",
   "metadata": {},
   "outputs": [
    {
     "name": "stdout",
     "output_type": "stream",
     "text": [
      "0 United State\n",
      "1 India\n",
      "2 China\n",
      "3 Brazil\n"
     ]
    }
   ],
   "source": [
    "for i, country in enumerate(countries):\n",
    "    print(i, country)"
   ]
  },
  {
   "cell_type": "markdown",
   "id": "5ecd57bc",
   "metadata": {},
   "source": [
    "## For loop in Dictionary "
   ]
  },
  {
   "cell_type": "code",
   "execution_count": 25,
   "id": "7a20e2d5",
   "metadata": {},
   "outputs": [
    {
     "data": {
      "text/plain": [
       "{'name': 'Frank', 'age': 22}"
      ]
     },
     "execution_count": 25,
     "metadata": {},
     "output_type": "execute_result"
    }
   ],
   "source": [
    "my_data = {'name': 'Frank', 'age': 22}\n",
    "my_data"
   ]
  },
  {
   "cell_type": "code",
   "execution_count": 26,
   "id": "64eb0935",
   "metadata": {},
   "outputs": [
    {
     "name": "stdout",
     "output_type": "stream",
     "text": [
      "name Frank\n",
      "age 22\n"
     ]
    }
   ],
   "source": [
    "for key, value in my_data.items():\n",
    "    print(key, value)"
   ]
  },
  {
   "cell_type": "markdown",
   "id": "5b2bae5c",
   "metadata": {},
   "source": [
    "## Function "
   ]
  },
  {
   "cell_type": "code",
   "execution_count": 30,
   "id": "306d590e",
   "metadata": {},
   "outputs": [],
   "source": [
    "def function (<params>):\n",
    "       <code>\n",
    "       return <data>"
   ]
  },
  {
   "cell_type": "code",
   "execution_count": 31,
   "id": "c3cf4654",
   "metadata": {},
   "outputs": [],
   "source": [
    "def sum_values(a, b):\n",
    "    x = a + b\n",
    "    return x"
   ]
  },
  {
   "cell_type": "code",
   "execution_count": 32,
   "id": "6cc35b4d",
   "metadata": {},
   "outputs": [
    {
     "data": {
      "text/plain": [
       "5"
      ]
     },
     "execution_count": 32,
     "metadata": {},
     "output_type": "execute_result"
    }
   ],
   "source": [
    "sum_values(1, 4)"
   ]
  },
  {
   "cell_type": "markdown",
   "id": "edcf4842",
   "metadata": {},
   "source": [
    "## Built-in Functions in python "
   ]
  },
  {
   "cell_type": "code",
   "execution_count": null,
   "id": "f975f1a1",
   "metadata": {},
   "outputs": [],
   "source": [
    "len()---return length of object "
   ]
  },
  {
   "cell_type": "code",
   "execution_count": null,
   "id": "f0ceb83a",
   "metadata": {},
   "outputs": [],
   "source": [
    "max()---return maximum value"
   ]
  },
  {
   "cell_type": "code",
   "execution_count": null,
   "id": "5979982c",
   "metadata": {},
   "outputs": [],
   "source": [
    "type()--- return type of object"
   ]
  }
 ],
 "metadata": {
  "kernelspec": {
   "display_name": "Python 3 (ipykernel)",
   "language": "python",
   "name": "python3"
  },
  "language_info": {
   "codemirror_mode": {
    "name": "ipython",
    "version": 3
   },
   "file_extension": ".py",
   "mimetype": "text/x-python",
   "name": "python",
   "nbconvert_exporter": "python",
   "pygments_lexer": "ipython3",
   "version": "3.9.7"
  }
 },
 "nbformat": 4,
 "nbformat_minor": 5
}
